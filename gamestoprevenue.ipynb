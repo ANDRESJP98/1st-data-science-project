{
 "cells": [
  {
   "cell_type": "code",
   "execution_count": null,
   "metadata": {},
   "outputs": [],
   "source": [
    "import pandas as pd\n",
    "import requests\n",
    "from bs4 import BeautifulSoup\n",
    "import warnings\n",
    "# Ignore all warnings\n",
    "warnings.filterwarnings(\"ignore\", category=FutureWarning)\n",
    "url=\"https://finance.yahoo.com/quote/GME/history\"\n",
    "data  = requests.get(url).text\n",
    "soup = BeautifulSoup(data, 'html5lib')\n",
    "tesla_data = pd.DataFrame(columns=[\"Date\", \"Open\", \"High\", \"Low\", \"Close\", \"Adj Close\", \"Volume\"])\n",
    "\n",
    "for row in soup.find(\"tbody\").find_all('tr'):\n",
    "    col = row.find_all(\"td\")\n",
    "    date = col[0].text\n",
    "    Open = col[1].text\n",
    "    high = col[2].text\n",
    "    low = col[3].text\n",
    "    close = col[4].text\n",
    "    adj_close = col[5].text\n",
    "    volume = col[6].text\n",
    "        \n",
    "    tesla_data = tesla_data.append({\"Date\": date, \"Open\": Open, \"High\": high, \"Low\": low, \"Close\": close, \"Adj Close\": adj_close, \"Volume\": volume}, ignore_index=True)\n",
    "tesla_data.tail()"
   ]
  },
  {
   "cell_type": "markdown",
   "metadata": {},
   "source": [
    "| Date         | Open  | High  | Low   | Close | Adj Close | Volume     |\n",
    "|--------------|-------|-------|-------|-------|-----------|------------|\n",
    "| Mar 31, 2023 | 22.35 | 23.07 | 22.15 | 23.02 | 23.02     | 3,880,300  |\n",
    "| Mar 30, 2023 | 22.60 | 22.83 | 22.11 | 22.50 | 22.50     | 3,477,600  |\n",
    "| Mar 29, 2023 | 23.08 | 23.70 | 22.22 | 22.46 | 22.46     | 4,161,400  |\n",
    "| Mar 28, 2023 | 22.97 | 23.54 | 22.22 | 23.15 | 23.15     | 5,711,700  |\n",
    "| Mar 27, 2023 | 23.99 | 24.01 | 22.69 | 23.00 | 23.00     | 4,580,800  |\n"
   ]
  },
  {
   "cell_type": "code",
   "execution_count": null,
   "metadata": {},
   "outputs": [],
   "source": []
  }
 ],
 "metadata": {
  "kernelspec": {
   "display_name": "Python 3 (ipykernel)",
   "language": "python",
   "name": "python3"
  },
  "language_info": {
   "codemirror_mode": {
    "name": "ipython",
    "version": 3
   },
   "file_extension": ".py",
   "mimetype": "text/x-python",
   "name": "python",
   "nbconvert_exporter": "python",
   "pygments_lexer": "ipython3",
   "version": "3.12.2"
  }
 },
 "nbformat": 4,
 "nbformat_minor": 4
}
